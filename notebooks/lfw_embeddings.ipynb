{
 "cells": [
  {
   "cell_type": "code",
   "execution_count": 1,
   "metadata": {},
   "outputs": [
    {
     "name": "stderr",
     "output_type": "stream",
     "text": [
      "Using TensorFlow backend.\n"
     ]
    }
   ],
   "source": [
    "import os\n",
    "import time\n",
    "import re\n",
    "from itertools import product\n",
    "\n",
    "import pandas as pd\n",
    "import numpy as np\n",
    "from scipy.spatial.distance import pdist, squareform\n",
    "import matplotlib.pyplot as plt\n",
    "\n",
    "from dro.utils.flags import define_training_flags, define_eval_flags\n",
    "from dro.utils.lfw import get_annotated_data_df, extract_person_from_filename,\\\n",
    "    extract_imagenum_from_filename, apply_thresh"
   ]
  },
  {
   "cell_type": "code",
   "execution_count": 2,
   "metadata": {},
   "outputs": [],
   "source": [
    "os.chdir(\"/Users/jpgard/Documents/github/dro\")\n",
    "TEST_DIR = \"/Users/jpgard/Documents/research/lfw/lfw-deepfunneled-sm-cropped\"\n",
    "ANNO_FP = \"/Users/jpgard/Documents/research/lfw/lfw_attributes_cleaned.txt\"\n",
    "EMBEDDING_FP = \"./embeddings/lfw_embeddings.csv\"\n",
    "\n",
    "# Read the embedding df and clean up strings.\n",
    "embedding_df = pd.read_csv(EMBEDDING_FP)\n",
    "# The first line below removes the leading \"b'\" artifact from the index string\n",
    "# The file paths are redundant (\"first_last/first_last_0001.jpg\"), so second line drops the top-level directory\n",
    "filenames = embedding_df.pop(embedding_df.columns[0])\n",
    "filenames = filenames\\\n",
    "    .apply(lambda x: re.sub(\"^b'\", '', x))\\\n",
    "    .apply(lambda x: x.split('/')[1])\n",
    "\n",
    "embedding_df['person'] = filenames.apply(extract_person_from_filename)\n",
    "embedding_df['imagenum_str'] = filenames.apply(extract_imagenum_from_filename)\n",
    "embedding_df.set_index(['person', 'imagenum_str'], inplace=True)\n",
    "\n",
    "# L2 normalize the embeddings\n",
    "# tf_norm = tf.math.l2_normalize(embedding_df.values, axis=1).numpy()\n",
    "embedding_df = embedding_df.apply(lambda x: x / np.linalg.norm(x, ord=2), axis=1)\n",
    "\n",
    "# Fetch annotated data df, and convert paths to relative path (from FLAGS.test_dir)\n",
    "anno_df = get_annotated_data_df(ANNO_FP, TEST_DIR)\n",
    "anno_df['filename'] = anno_df['filename'].apply(lambda x: os.path.relpath(x, TEST_DIR))"
   ]
  },
  {
   "cell_type": "code",
   "execution_count": 3,
   "metadata": {},
   "outputs": [],
   "source": [
    "def compute_d(df: pd.DataFrame):\n",
    "    \"\"\"Get the distance matrix from a pd.DataFrame of embeddings.\"\"\"\n",
    "    start = time.time()\n",
    "    D = pdist(df.values, metric='sqeuclidean')\n",
    "    D = squareform(D)\n",
    "    end = time.time()\n",
    "    print(\"Computed distance matrix of shape {} in {} secs\".format(D.shape, end - start))\n",
    "    return D"
   ]
  },
  {
   "cell_type": "code",
   "execution_count": 4,
   "metadata": {},
   "outputs": [],
   "source": [
    "def construct_p_same(df):\n",
    "    # Construct the matrix p_same. The i,j-th entry in p_same\n",
    "    # is true if i and j are of the same identity; otherwise false.\n",
    "    ids = np.array(embedding_df.index.get_level_values(0))\n",
    "    p_same = [i == j for i,j in product(ids, ids)]\n",
    "    n = len(embedding_df)\n",
    "    p_same = np.array(p_same).reshape((n,n))\n",
    "    # Sanity check: diagonal of p_same should all be true\n",
    "    assert np.all(np.diagonal(p_same))\n",
    "    # Sanity check: p_same is symmetric\n",
    "    assert np.allclose(p_same, p_same.T)\n",
    "    return p_same"
   ]
  },
  {
   "cell_type": "code",
   "execution_count": 5,
   "metadata": {},
   "outputs": [],
   "source": [
    "def keep_upper_triangular_indices(ary):\n",
    "    \"\"\"Given an array of shape [n,2] where the\n",
    "    columns represent (i,j) pairs, return the array\n",
    "    filtered to only include entries where i > j.\n",
    "    This op simultaneously de-duplicates the results\n",
    "    (by filtering for i > j) and removes the set where i == j\n",
    "    from true accepts (these have identical embeddings).\n",
    "    \"\"\"\n",
    "    return ary[ary[:,0] > ary[:,1]]"
   ]
  },
  {
   "cell_type": "code",
   "execution_count": 6,
   "metadata": {},
   "outputs": [],
   "source": [
    "def compute_val_and_far(D: np.ndarray, d:float, p_same: np.ndarray):\n",
    "    \"\"\"Compute the validation rate VAL(d) and the false accept\n",
    "    rate FAR(d) for pairwise distance matrix D, threshold d,\n",
    "    and identity set indicator matrix p_same.\"\"\"\n",
    "    assert D.dtype == np.float\n",
    "    assert p_same.dtype == np.bool\n",
    "    n = len(D)\n",
    "    \n",
    "    start = time.time()\n",
    "    # Compute true accepts; this is equation (4) in FaceNet.\n",
    "    # This computes indices where dist(i,j) <= d and (i,j) \\in p_same.\n",
    "    ta_d = np.argwhere(np.logical_and(D <= d, p_same == True))\n",
    "    ta_d = keep_upper_triangular_indices(ta_d)\n",
    "\n",
    "    # Compute false accepts; this is equation (5) in FaceNet\n",
    "    fa_d = np.argwhere(np.logical_and(D <= d, p_same == False))\n",
    "    fa_d = keep_upper_triangular_indices(fa_d)\n",
    "\n",
    "    # Compute validation rate, equation (6)a\n",
    "    n_p_same = (p_same.sum() - n) / float(2)\n",
    "    # Equivalent, but slower:\n",
    "    # n_p_same = len(keep_upper_triangular_indices(np.argwhere(p_same)))\n",
    "    val_d = len(ta_d) / n_p_same\n",
    "\n",
    "    # Compute false accept rate, equation (7)b\n",
    "    n_p_diff = ((n) * (n-1) * 0.5) - n_p_same\n",
    "    # Equivalent, but slower: \n",
    "    # n_p_diff = len(keep_upper_triangular_indices(np.argwhere(~p_same)))\n",
    "    far_d = len(fa_d) / n_p_diff\n",
    "\n",
    "    # Sanity check that n_p_same and n_p_diff have correct sum,\n",
    "    # which is the number of elements in the upper-diagonal portion of\n",
    "    # a square matrix.\n",
    "    assert n_p_same + n_p_diff == n * (n-1) * 0.5\n",
    "\n",
    "    end = time.time()\n",
    "    print(\"VAL(d) @ d = {}: {}\".format(d, val_d))\n",
    "    print(\"FAR(d) @ d = {}: {}\".format(d, far_d))\n",
    "    print(\"Computed in {}sec\".format(end - start))\n",
    "    return val_d, far_d"
   ]
  },
  {
   "cell_type": "code",
   "execution_count": 7,
   "metadata": {},
   "outputs": [],
   "source": [
    "def evaluate_embeddings(D, p_same, dmin=0.5, dmax=1.5, num=10):\n",
    "    res = list()\n",
    "    for dval in np.linspace(0.5, 1.5, num=num):\n",
    "        val_d, far_d = compute_val_and_far(D, dval, p_same)\n",
    "        res.append((val_d, far_d, dval))\n",
    "    return np.array(res)"
   ]
  },
  {
   "cell_type": "code",
   "execution_count": 8,
   "metadata": {},
   "outputs": [
    {
     "name": "stdout",
     "output_type": "stream",
     "text": [
      "Computed distance matrix of shape (13194, 13194) in 15.72506308555603 secs\n"
     ]
    },
    {
     "data": {
      "text/plain": [
       "Text(0.5, 1.0, 'FaceNet Distances; LFW Dataset')"
      ]
     },
     "execution_count": 8,
     "metadata": {},
     "output_type": "execute_result"
    },
    {
     "data": {
      "image/png": "[encoded data removed]",
      "text/plain": [
       "<Figure size 432x288 with 1 Axes>"
      ]
     },
     "metadata": {
      "needs_background": "light"
     },
     "output_type": "display_data"
    }
   ],
   "source": [
    "D = compute_d(embedding_df)\n",
    "p_same = construct_p_same(embedding_df)\n",
    "\n",
    "# Sanity check: D and p_same are both n x n matrices\n",
    "assert D.shape == p_same.shape\n",
    "\n",
    "# Sanity check: Show the distribution of pairwise distances\n",
    "plt.hist(D.ravel(), bins=50)\n",
    "plt.xlabel(\"Squared L2 Distance\")\n",
    "plt.title(\"FaceNet Distances; LFW Dataset\")"
   ]
  },
  {
   "cell_type": "code",
   "execution_count": 9,
   "metadata": {},
   "outputs": [
    {
     "name": "stdout",
     "output_type": "stream",
     "text": [
      "VAL(d) @ d = 0.5: 0.47674408986384764\n",
      "FAR(d) @ d = 0.5: 4.2100444401645014e-05\n",
      "Computed in 2.8664472103118896sec\n",
      "VAL(d) @ d = 0.6111111111111112: 0.6683623670322763\n",
      "FAR(d) @ d = 0.6111111111111112: 0.0001180287226191712\n",
      "Computed in 2.344799041748047sec\n",
      "VAL(d) @ d = 0.7222222222222222: 0.8009661356229424\n",
      "FAR(d) @ d = 0.7222222222222222: 0.0003677624753300786\n",
      "Computed in 2.367393970489502sec\n",
      "VAL(d) @ d = 0.8333333333333333: 0.8798492894601883\n",
      "FAR(d) @ d = 0.8333333333333333: 0.0011538102636205624\n",
      "Computed in 2.210487127304077sec\n",
      "VAL(d) @ d = 0.9444444444444444: 0.9224692706006915\n",
      "FAR(d) @ d = 0.9444444444444444: 0.003327870760346124\n",
      "Computed in 2.406141996383667sec\n",
      "VAL(d) @ d = 1.0555555555555556: 0.9456465995003888\n",
      "FAR(d) @ d = 1.0555555555555556: 0.008538036950755834\n",
      "Computed in 2.3602030277252197sec\n",
      "VAL(d) @ d = 1.1666666666666665: 0.9588358396611908\n",
      "FAR(d) @ d = 1.1666666666666665: 0.019427027699523067\n",
      "Computed in 3.2389800548553467sec\n",
      "VAL(d) @ d = 1.2777777777777777: 0.967074461925323\n",
      "FAR(d) @ d = 1.2777777777777777: 0.039810014313114137\n",
      "Computed in 2.5140109062194824sec\n",
      "VAL(d) @ d = 1.3888888888888888: 0.9723269972041623\n",
      "FAR(d) @ d = 1.3888888888888888: 0.07495674190859472\n",
      "Computed in 3.3436548709869385sec\n",
      "VAL(d) @ d = 1.5: 0.976347047827022\n",
      "FAR(d) @ d = 1.5: 0.13202243103382066\n",
      "Computed in 3.281599998474121sec\n"
     ]
    }
   ],
   "source": [
    "data = evaluate_embeddings(D, p_same)"
   ]
  },
  {
   "cell_type": "code",
   "execution_count": 10,
   "metadata": {
    "scrolled": true
   },
   "outputs": [
    {
     "data": {
      "text/plain": [
       "Text(0, 0.5, 'Validation Rate (VAL)')"
      ]
     },
     "execution_count": 10,
     "metadata": {},
     "output_type": "execute_result"
    },
    {
     "data": {
      "image/png": "[encoded data removed]",
      "text/plain": [
       "<Figure size 432x288 with 1 Axes>"
      ]
     },
     "metadata": {
      "needs_background": "light"
     },
     "output_type": "display_data"
    }
   ],
   "source": [
    "%matplotlib inline\n",
    "plt.plot(data[:,1], data[:,0], marker='o', linestyle='dashed')\n",
    "plt.title(\"FAR-VAL Curve\")\n",
    "plt.xlabel(\"False Accept Rate (FAR)\")\n",
    "plt.ylabel(\"Validation Rate (VAL)\")"
   ]
  },
  {
   "cell_type": "code",
   "execution_count": 34,
   "metadata": {},
   "outputs": [
    {
     "data": {
      "image/png": "[encoded data removed]",
      "text/plain": [
       "<Figure size 432x288 with 1 Axes>"
      ]
     },
     "metadata": {
      "needs_background": "light"
     },
     "output_type": "display_data"
    }
   ],
   "source": [
    "t = 0.  # Confidence threshold\n",
    "SUBGROUPS = [\"Black\",]\n",
    "\n",
    "for s in SUBGROUPS:\n",
    "    plt.hist(anno_df.Black.values, bins=50)\n",
    "    plt.title(\"Distribution of Scores for Attribute {}\".format(s))\n",
    "    anno_s = apply_thresh(anno_df, s, 0.3, use_abs=False)\n",
    "    embedding_s = embedding_df.loc[anno_s.index]"
   ]
  },
  {
   "cell_type": "code",
   "execution_count": 38,
   "metadata": {},
   "outputs": [
    {
     "data": {
      "text/plain": [
       "(174, 76)"
      ]
     },
     "execution_count": 38,
     "metadata": {},
     "output_type": "execute_result"
    }
   ],
   "source": [
    "anno_df.shape"
   ]
  },
  {
   "cell_type": "code",
   "execution_count": null,
   "metadata": {},
   "outputs": [],
   "source": []
  },
  {
   "cell_type": "code",
   "execution_count": null,
   "metadata": {},
   "outputs": [],
   "source": []
  },
  {
   "cell_type": "code",
   "execution_count": null,
   "metadata": {},
   "outputs": [],
   "source": []
  }
 ],
 "metadata": {
  "kernelspec": {
   "display_name": "Python 3",
   "language": "python",
   "name": "python3"
  },
  "language_info": {
   "codemirror_mode": {
    "name": "ipython",
    "version": 3
   },
   "file_extension": ".py",
   "mimetype": "text/x-python",
   "name": "python",
   "nbconvert_exporter": "python",
   "pygments_lexer": "ipython3",
   "version": "3.6.7"
  }
 },
 "nbformat": 4,
 "nbformat_minor": 2
}
